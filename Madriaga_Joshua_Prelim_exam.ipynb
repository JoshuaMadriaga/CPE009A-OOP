{
  "nbformat": 4,
  "nbformat_minor": 0,
  "metadata": {
    "colab": {
      "provenance": [],
      "authorship_tag": "ABX9TyOY71nDomdaVIPTA5o3PBXN",
      "include_colab_link": true
    },
    "kernelspec": {
      "name": "python3",
      "display_name": "Python 3"
    },
    "language_info": {
      "name": "python"
    }
  },
  "cells": [
    {
      "cell_type": "markdown",
      "metadata": {
        "id": "view-in-github",
        "colab_type": "text"
      },
      "source": [
        "<a href=\"https://colab.research.google.com/github/JoshuaMadriaga/CPE009A-OOP/blob/main/Madriaga_Joshua_Prelim_exam.ipynb\" target=\"_parent\"><img src=\"https://colab.research.google.com/assets/colab-badge.svg\" alt=\"Open In Colab\"/></a>"
      ]
    },
    {
      "cell_type": "code",
      "execution_count": 14,
      "metadata": {
        "colab": {
          "base_uri": "https://localhost:8080/"
        },
        "id": "i-bvHaPIRmud",
        "outputId": "65346aca-0ee9-4fe2-e85d-5af3ba16a6b8"
      },
      "outputs": [
        {
          "output_type": "stream",
          "name": "stdout",
          "text": [
            "enter your fullname: joshua \n",
            "enter your age: 19\n",
            "fullname and age: joshua 19\n"
          ]
        }
      ],
      "source": [
        "fullname = input(\"enter your fullname: \")\n",
        "age = input (\"enter your age: \")\n",
        "print (\"fullname and age: \" +fullname + age)"
      ]
    }
  ]
}