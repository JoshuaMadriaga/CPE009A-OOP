{
  "nbformat": 4,
  "nbformat_minor": 0,
  "metadata": {
    "colab": {
      "provenance": [],
      "authorship_tag": "ABX9TyP9YcgKX+tdVXmS8GLw3Zuv",
      "include_colab_link": true
    },
    "kernelspec": {
      "name": "python3",
      "display_name": "Python 3"
    },
    "language_info": {
      "name": "python"
    }
  },
  "cells": [
    {
      "cell_type": "markdown",
      "metadata": {
        "id": "view-in-github",
        "colab_type": "text"
      },
      "source": [
        "<a href=\"https://colab.research.google.com/github/JoshuaMadriaga/CPE009A-OOP/blob/main/Demo3.ipynb\" target=\"_parent\"><img src=\"https://colab.research.google.com/assets/colab-badge.svg\" alt=\"Open In Colab\"/></a>"
      ]
    },
    {
      "cell_type": "markdown",
      "source": [
        "Conditional Statement"
      ],
      "metadata": {
        "id": "g2RWJdjVNV4I"
      }
    },
    {
      "cell_type": "markdown",
      "source": [
        "control structure"
      ],
      "metadata": {
        "id": "zog_jxhANbrw"
      }
    },
    {
      "cell_type": "markdown",
      "source": [
        "if statement"
      ],
      "metadata": {
        "id": "NHuHgan4N9MQ"
      }
    },
    {
      "cell_type": "code",
      "execution_count": 1,
      "metadata": {
        "colab": {
          "base_uri": "https://localhost:8080/"
        },
        "id": "pZ7udi-5NFZY",
        "outputId": "ed5da426-465e-480d-fb5a-e5176d3eb0d3"
      },
      "outputs": [
        {
          "output_type": "stream",
          "name": "stdout",
          "text": [
            "b is greater than a \n"
          ]
        }
      ],
      "source": [
        "a = 12\n",
        "b = 100\n",
        "if b>a:\n",
        "  print(\"b is greater than a \")"
      ]
    },
    {
      "cell_type": "markdown",
      "source": [
        "elif statement"
      ],
      "metadata": {
        "id": "AeIWa-XOOJiY"
      }
    },
    {
      "cell_type": "code",
      "source": [
        "a = 12\n",
        "b = 12\n",
        "if b>a:\n",
        "  print(\"b is greater than a\")\n",
        "elif b==a:\n",
        "  print(\"b and a are equal\")"
      ],
      "metadata": {
        "colab": {
          "base_uri": "https://localhost:8080/"
        },
        "id": "K21RFtbnOMCJ",
        "outputId": "4e85c3bf-f1fb-497e-ad3e-5eabbd7ddf34"
      },
      "execution_count": 3,
      "outputs": [
        {
          "output_type": "stream",
          "name": "stdout",
          "text": [
            "b and a are equal\n"
          ]
        }
      ]
    },
    {
      "cell_type": "markdown",
      "source": [
        "else statement"
      ],
      "metadata": {
        "id": "x8pQxJjdQa86"
      }
    },
    {
      "cell_type": "code",
      "source": [
        "a = 200\n",
        "b = 33\n",
        "if b>a:\n",
        "  print(\"a is greater than b\")\n",
        "elif a==b:\n",
        "  print(\"a dn b are equal\")\n",
        "else:\n",
        "  print(\"a is greater than b\")"
      ],
      "metadata": {
        "colab": {
          "base_uri": "https://localhost:8080/"
        },
        "id": "KCjNJEz9QcVC",
        "outputId": "28bd0792-868f-445e-b00f-bbc17b9137d7"
      },
      "execution_count": 4,
      "outputs": [
        {
          "output_type": "stream",
          "name": "stdout",
          "text": [
            "a is greater than b\n"
          ]
        }
      ]
    },
    {
      "cell_type": "markdown",
      "source": [
        "short hand if statement"
      ],
      "metadata": {
        "id": "Su-VTcDKSaKU"
      }
    },
    {
      "cell_type": "code",
      "source": [
        "a = 200\n",
        "b = 33\n",
        "if a > b: print(\"a is greater than b\")"
      ],
      "metadata": {
        "colab": {
          "base_uri": "https://localhost:8080/"
        },
        "id": "7mdU_A1zScmM",
        "outputId": "04493b02-bef1-467b-cf60-8f811440e26f"
      },
      "execution_count": 7,
      "outputs": [
        {
          "output_type": "stream",
          "name": "stdout",
          "text": [
            "a is greater than b\n"
          ]
        }
      ]
    },
    {
      "cell_type": "markdown",
      "source": [
        "short hand elif statement"
      ],
      "metadata": {
        "id": "CEDrU6S_StSZ"
      }
    },
    {
      "cell_type": "code",
      "source": [
        "a = 2\n",
        "b = 33\n",
        "print(\"A\") if a > b else print(\"B\")"
      ],
      "metadata": {
        "colab": {
          "base_uri": "https://localhost:8080/"
        },
        "id": "9x-2JCYtSvBB",
        "outputId": "27b2eeff-7eaf-45db-d0ac-963439aec751"
      },
      "execution_count": 8,
      "outputs": [
        {
          "output_type": "stream",
          "name": "stdout",
          "text": [
            "B\n"
          ]
        }
      ]
    },
    {
      "cell_type": "markdown",
      "source": [
        "and-both conditions are true"
      ],
      "metadata": {
        "id": "wZw4v3PNTwd9"
      }
    },
    {
      "cell_type": "code",
      "source": [
        "a = 200\n",
        "b = 33\n",
        "c = 500\n",
        "if a > b and c > a:\n",
        "  print(\"both condition are true\")"
      ],
      "metadata": {
        "colab": {
          "base_uri": "https://localhost:8080/"
        },
        "id": "O69JFYjhT2Pr",
        "outputId": "b2812975-ed89-40d2-d6d3-e5edec5196d8"
      },
      "execution_count": 9,
      "outputs": [
        {
          "output_type": "stream",
          "name": "stdout",
          "text": [
            "both condition are true\n"
          ]
        }
      ]
    },
    {
      "cell_type": "markdown",
      "source": [
        "or-at least one of the condition is true"
      ],
      "metadata": {
        "id": "wilMURLyUZ0C"
      }
    },
    {
      "cell_type": "code",
      "source": [
        "a = 200\n",
        "b = 33\n",
        "c = 500\n",
        "if a > b or a > c:\n",
        "  print(\"At least one of the conditions is true\")"
      ],
      "metadata": {
        "colab": {
          "base_uri": "https://localhost:8080/"
        },
        "id": "rSVyvJxSUcvs",
        "outputId": "032abedf-d31e-4189-8ba1-687fa16985d3"
      },
      "execution_count": 10,
      "outputs": [
        {
          "output_type": "stream",
          "name": "stdout",
          "text": [
            "At least one of the conditions is true\n"
          ]
        }
      ]
    },
    {
      "cell_type": "markdown",
      "source": [
        "nested if"
      ],
      "metadata": {
        "id": "MAsFWQ9ZVD3C"
      }
    },
    {
      "cell_type": "code",
      "source": [
        "x = 41\n",
        "\n",
        "if x>10:\n",
        "  print(\"above ten,\")\n",
        "  if x>20:\n",
        "    print(\"and also above 20\")\n",
        "    if x>30:\n",
        "      print (\"and also above 30\")\n",
        "      if x>=40:\n",
        "        print(\"and also above 40\")\n",
        "        if x>50:\n",
        "          print(\"and also above 50\")\n",
        "        else:\n",
        "          print(\"not above 50\")\n",
        "      else:\n",
        "        print(\"but not above 40.\")\n",
        "    else:\n",
        "     print(\"but not above 30.\")\n",
        "  else:\n",
        "    print(\"but not above 20.\")"
      ],
      "metadata": {
        "colab": {
          "base_uri": "https://localhost:8080/"
        },
        "id": "MfDClnhwVLCO",
        "outputId": "21e62cef-465c-4cce-dbe9-4566e2544adf"
      },
      "execution_count": 37,
      "outputs": [
        {
          "output_type": "stream",
          "name": "stdout",
          "text": [
            "above ten,\n",
            "and also above 20\n",
            "and also above 30\n",
            "and also above 40\n",
            "not above 50\n"
          ]
        }
      ]
    },
    {
      "cell_type": "markdown",
      "source": [
        "Example 1:\n",
        "write a program that dermines if the input age is qualified to vote or not the qualifying age is 18 years old and above"
      ],
      "metadata": {
        "id": "EALSQOH7ap4l"
      }
    },
    {
      "cell_type": "code",
      "source": [
        "age = int(input(\"enter your age: \"))\n",
        "if age>= 18:\n",
        "  print(\"You are qualified to vote!\")\n",
        "else:\n",
        "  print(\"You are not qualified to Vote!\")"
      ],
      "metadata": {
        "colab": {
          "base_uri": "https://localhost:8080/"
        },
        "id": "C3zkzGdRbAIU",
        "outputId": "a89fa9c6-586e-46cc-bcef-7ffd8d2e4359"
      },
      "execution_count": 38,
      "outputs": [
        {
          "output_type": "stream",
          "name": "stdout",
          "text": [
            "enter your age: 18\n",
            "You are qualified to vote!\n"
          ]
        }
      ]
    },
    {
      "cell_type": "markdown",
      "source": [
        "Example 2:\n",
        "Write a program that determines if the input number a POSITIVE, NEGATIVE, or ZERO"
      ],
      "metadata": {
        "id": "cTfovqhhbxwl"
      }
    },
    {
      "cell_type": "code",
      "source": [
        "number=float(input(\"enter a number: \"))\n",
        "if number>0:\n",
        "  print(\"the number is positive\")\n",
        "elif number<0:\n",
        "  print(\"the number is negative\")\n",
        "else:\n",
        "  print(\"the number is zero\")"
      ],
      "metadata": {
        "colab": {
          "base_uri": "https://localhost:8080/"
        },
        "id": "JKQzHda2b-2N",
        "outputId": "676041df-92cc-4dc5-b2e0-1cc0e1478c57"
      },
      "execution_count": 41,
      "outputs": [
        {
          "output_type": "stream",
          "name": "stdout",
          "text": [
            "enter a number: -4\n",
            "the number is negative\n"
          ]
        }
      ]
    },
    {
      "cell_type": "markdown",
      "source": [
        "Example 3: Write a program to determine if the grade are:\n",
        "\n",
        "if\n",
        "grade >= 70, \"passed\"\n",
        "grade is 65 to 69, \"remedial\"\n",
        "grade > 64 or below, \"failed\"\n",
        "note: if grade is a negative number, it will not accepted"
      ],
      "metadata": {
        "id": "J-fVdMkBb_It"
      }
    },
    {
      "cell_type": "code",
      "source": [
        "grade=int(input(\"enter a grade: \"))\n",
        "if grade>=70:\n",
        "  print(\"Passed\")\n",
        "elif grade>65:\n",
        "  print(\"Remedial\")\n",
        "elif grade<0:\n",
        "  print(\"invalid grade\")\n",
        "else:\n",
        "  print(\"failed\")"
      ],
      "metadata": {
        "colab": {
          "base_uri": "https://localhost:8080/"
        },
        "id": "X21lJC3ZepS_",
        "outputId": "42bafc84-587f-400a-e1ce-658b18d91384"
      },
      "execution_count": 47,
      "outputs": [
        {
          "output_type": "stream",
          "name": "stdout",
          "text": [
            "enter a grade: -4\n",
            "invalid grade\n"
          ]
        }
      ]
    }
  ]
}