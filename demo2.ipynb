{
  "nbformat": 4,
  "nbformat_minor": 0,
  "metadata": {
    "colab": {
      "provenance": [],
      "authorship_tag": "ABX9TyM7aHiNMOsVuuCncxrJd8qI",
      "include_colab_link": true
    },
    "kernelspec": {
      "name": "python3",
      "display_name": "Python 3"
    },
    "language_info": {
      "name": "python"
    }
  },
  "cells": [
    {
      "cell_type": "markdown",
      "metadata": {
        "id": "view-in-github",
        "colab_type": "text"
      },
      "source": [
        "<a href=\"https://colab.research.google.com/github/JoshuaMadriaga/CPE009A-OOP/blob/main/demo2.ipynb\" target=\"_parent\"><img src=\"https://colab.research.google.com/assets/colab-badge.svg\" alt=\"Open In Colab\"/></a>"
      ]
    },
    {
      "cell_type": "code",
      "source": [
        "num1=50\n",
        "num2=50\n",
        "num3=50\n",
        "sum=num1+num2+num3\n",
        "average = sum/3\n",
        "print(sum)\n",
        "print(average)"
      ],
      "metadata": {
        "colab": {
          "base_uri": "https://localhost:8080/"
        },
        "id": "m8JJX66OSEPy",
        "outputId": "ce406c60-6324-4fa7-ad15-cd363ccb3955"
      },
      "execution_count": 2,
      "outputs": [
        {
          "output_type": "stream",
          "name": "stdout",
          "text": [
            "150\n",
            "50.0\n"
          ]
        }
      ]
    },
    {
      "cell_type": "code",
      "execution_count": 5,
      "metadata": {
        "colab": {
          "base_uri": "https://localhost:8080/"
        },
        "id": "0U_A9H2JRoKe",
        "outputId": "5c19bbca-16e7-4730-93a5-cdc552a3f5fa"
      },
      "outputs": [
        {
          "output_type": "stream",
          "name": "stdout",
          "text": [
            "Input three grades\n",
            "90\n",
            "95\n",
            "85\n",
            "90.0\n"
          ]
        }
      ],
      "source": [
        "print(\"Input three grades\")\n",
        "num1=input()\n",
        "num2=input()\n",
        "num3=input()\n",
        "average=(int(num1)+int(num2)+int(num3))/3\n",
        "print(average)"
      ]
    }
  ]
}