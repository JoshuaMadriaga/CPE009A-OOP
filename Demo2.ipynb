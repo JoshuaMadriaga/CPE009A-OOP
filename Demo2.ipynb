{
  "nbformat": 4,
  "nbformat_minor": 0,
  "metadata": {
    "colab": {
      "provenance": [],
      "authorship_tag": "ABX9TyOplrm/DGhsIMIIvnJTg47m",
      "include_colab_link": true
    },
    "kernelspec": {
      "name": "python3",
      "display_name": "Python 3"
    },
    "language_info": {
      "name": "python"
    }
  },
  "cells": [
    {
      "cell_type": "markdown",
      "metadata": {
        "id": "view-in-github",
        "colab_type": "text"
      },
      "source": [
        "<a href=\"https://colab.research.google.com/github/JoshuaMadriaga/CPE009A-OOP/blob/main/Demo2.ipynb\" target=\"_parent\"><img src=\"https://colab.research.google.com/assets/colab-badge.svg\" alt=\"Open In Colab\"/></a>"
      ]
    },
    {
      "cell_type": "code",
      "execution_count": null,
      "metadata": {
        "id": "8aWKutSTNSFy"
      },
      "outputs": [],
      "source": []
    },
    {
      "cell_type": "markdown",
      "source": [
        "flowchart"
      ],
      "metadata": {
        "id": "CiPBmA-5Ns1W"
      }
    },
    {
      "cell_type": "code",
      "source": [
        "num1=50\n",
        "num2=50\n",
        "num3=50\n",
        "sum=num1+num2+num3\n",
        "average = sum/3\n",
        "print(sum)\n",
        "print(average)"
      ],
      "metadata": {
        "colab": {
          "base_uri": "https://localhost:8080/"
        },
        "id": "qW5_hXNnN59l",
        "outputId": "a7d984b9-4b86-4c78-df06-c22eb4dbf60e"
      },
      "execution_count": 3,
      "outputs": [
        {
          "output_type": "stream",
          "name": "stdout",
          "text": [
            "150\n",
            "50.0\n"
          ]
        }
      ]
    }
  ]
}