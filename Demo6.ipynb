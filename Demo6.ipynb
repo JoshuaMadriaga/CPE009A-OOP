{
  "nbformat": 4,
  "nbformat_minor": 0,
  "metadata": {
    "colab": {
      "provenance": [],
      "authorship_tag": "ABX9TyNJB2h/mIlElwl/OKmP4fnA",
      "include_colab_link": true
    },
    "kernelspec": {
      "name": "python3",
      "display_name": "Python 3"
    },
    "language_info": {
      "name": "python"
    }
  },
  "cells": [
    {
      "cell_type": "markdown",
      "metadata": {
        "id": "view-in-github",
        "colab_type": "text"
      },
      "source": [
        "<a href=\"https://colab.research.google.com/github/JoshuaMadriaga/CPE009A-OOP/blob/main/Demo6.ipynb\" target=\"_parent\"><img src=\"https://colab.research.google.com/assets/colab-badge.svg\" alt=\"Open In Colab\"/></a>"
      ]
    },
    {
      "cell_type": "markdown",
      "source": [
        "oop concept 2"
      ],
      "metadata": {
        "id": "iyCc-QYgemFC"
      }
    },
    {
      "cell_type": "markdown",
      "source": [
        "inheritance, Encapsulation, and creating Multiple Object Names"
      ],
      "metadata": {
        "id": "NJWcPImYrdlj"
      }
    },
    {
      "cell_type": "code",
      "execution_count": 6,
      "metadata": {
        "colab": {
          "base_uri": "https://localhost:8080/"
        },
        "id": "JsGdFfUeatDm",
        "outputId": "a305284d-2595-43ea-a1f2-ac1819b67336"
      },
      "outputs": [
        {
          "output_type": "stream",
          "name": "stdout",
          "text": [
            "16\n",
            "6.928\n"
          ]
        }
      ],
      "source": [
        "class RegularPolygon: #Create the super class name RegularPolygons\n",
        "  def __init__(self,side):\n",
        "    self.side = side\n",
        "class Square(RegularPolygon):#inherits the properties of superclass RegularPolygon\n",
        "  def area(self): #defines the methdod?function to get the are of a square\n",
        "    return self.side*self.side\n",
        "class EquilateralTriangle(RegularPolygon):\n",
        "  def area(self): #defines the method?function to get the are of a equilateral triangle\n",
        "    return self.side*self.side*0.433\n",
        "\n",
        "square = Square(4) #creates and object name square\n",
        "print(square.area()) #print the instance of the attribute of square class\n",
        "\n",
        "equiltriangle = EquilateralTriangle(4) #creates the object name equiltriangle\n",
        "print(equiltriangle.area()) #print the instance of the attribute of equilateralTriangle class"
      ]
    },
    {
      "cell_type": "markdown",
      "source": [
        "Encapsulation usinng mangling(double_underscore)"
      ],
      "metadata": {
        "id": "0AmsZ6amr0CE"
      }
    },
    {
      "cell_type": "code",
      "source": [
        "class RegularPolygon: #Create the super class name RegularPolygons\n",
        "  def __init__(self,side):\n",
        "    self._side = side\n",
        "  def area(self):\n",
        "    print(*self._side*self._side)\n",
        "  class Square(RegularPolygon):\n",
        "    pass\n",
        "\n",
        "square = Square(5)\n",
        "square.area()"
      ],
      "metadata": {
        "colab": {
          "base_uri": "https://localhost:8080/"
        },
        "id": "to_7MmkKr613",
        "outputId": "0e6449e8-baf1-4548-890b-ff54688d8faa"
      },
      "execution_count": 8,
      "outputs": [
        {
          "output_type": "execute_result",
          "data": {
            "text/plain": [
              "25"
            ]
          },
          "metadata": {},
          "execution_count": 8
        }
      ]
    },
    {
      "cell_type": "markdown",
      "source": [
        "Application 1"
      ],
      "metadata": {
        "id": "wM5YTH6xtXmB"
      }
    },
    {
      "cell_type": "code",
      "source": [
        "\n",
        "class Student:\n",
        "  def __init__(self,pre,mid,fin):\n",
        "    self.pre = pre\n",
        "    self.mid = mid\n",
        "    self.fin = fin\n",
        "  def Grade(self):\n",
        "    return (self.pre + self.mid + self.fin)/3\n",
        "class std1(Student):\n",
        "  pass\n",
        "class std2(Student):\n",
        "  pass\n",
        "class std3(Student):\n",
        "  pass\n",
        "\n",
        "\n",
        "student1 = std1(75, 50, 69)\n",
        "print(\"Peji Grades:\",student1.Grade())\n",
        "student2 = std2(50, 60, 70)\n",
        "print(\"Martin Grades:\",student2.Grade())\n",
        "student3 = std3(90, 80, 85)\n",
        "print(\"Kenneth Grades:\",student3.Grade())"
      ],
      "metadata": {
        "colab": {
          "base_uri": "https://localhost:8080/"
        },
        "id": "b49A_khCtZwR",
        "outputId": "c12c5f7f-bd59-4320-92c9-7516c261e644"
      },
      "execution_count": 29,
      "outputs": [
        {
          "output_type": "stream",
          "name": "stdout",
          "text": [
            "Peji Grades: 64.66666666666667\n",
            "Martin Grades: 60.0\n",
            "Kenneth Grades: 85.0\n"
          ]
        }
      ]
    }
  ]
}