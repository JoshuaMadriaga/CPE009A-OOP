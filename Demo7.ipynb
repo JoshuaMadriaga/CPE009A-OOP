{
  "nbformat": 4,
  "nbformat_minor": 0,
  "metadata": {
    "colab": {
      "provenance": [],
      "authorship_tag": "ABX9TyMpkoYNjbw9Hm2aDlI++3AP",
      "include_colab_link": true
    },
    "kernelspec": {
      "name": "python3",
      "display_name": "Python 3"
    },
    "language_info": {
      "name": "python"
    }
  },
  "cells": [
    {
      "cell_type": "markdown",
      "metadata": {
        "id": "view-in-github",
        "colab_type": "text"
      },
      "source": [
        "<a href=\"https://colab.research.google.com/github/JoshuaMadriaga/CPE009A-OOP/blob/main/Demo7.ipynb\" target=\"_parent\"><img src=\"https://colab.research.google.com/assets/colab-badge.svg\" alt=\"Open In Colab\"/></a>"
      ]
    },
    {
      "cell_type": "code",
      "execution_count": 25,
      "metadata": {
        "colab": {
          "base_uri": "https://localhost:8080/"
        },
        "id": "jdFNaCrSgvfz",
        "outputId": "7294bc47-8016-41d2-f25b-8e37c0c39d73"
      },
      "outputs": [
        {
          "output_type": "stream",
          "name": "stdout",
          "text": [
            "the sides of square is 4\n",
            "the sides of triangle is 3\n",
            "the sides of rectangle is 4\n",
            "the sides of hexagon is 6\n",
            "the sides of pentagon is 5\n"
          ]
        }
      ],
      "source": [
        "class Shapes:\n",
        "  def __init__ (self,side):\n",
        "    self. __sides\n",
        "class square(Shapes):\n",
        "  pass\n",
        "class triangle(Shapes):\n",
        "  pass\n",
        "class rectangle(Shapes):\n",
        "  pass\n",
        "class hexagon(Shapes):\n",
        "  pass\n",
        "class pentagon(Shapes):\n",
        "  pass\n",
        "\n",
        "Shapes1 = square\n",
        "print(\"the sides of square is 4\")\n",
        "Shapes2 = triangle\n",
        "print(\"the sides of triangle is 3\")\n",
        "Shapes3 = rectangle\n",
        "print(\"the sides of rectangle is 4\")\n",
        "Shapes4 = hexagon\n",
        "print(\"the sides of hexagon is 6\")\n",
        "Shapes5 = pentagon\n",
        "print(\"the sides of pentagon is 5\")"
      ]
    }
  ]
}