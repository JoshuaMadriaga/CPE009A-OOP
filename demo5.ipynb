{
  "nbformat": 4,
  "nbformat_minor": 0,
  "metadata": {
    "colab": {
      "provenance": [],
      "authorship_tag": "ABX9TyNqFYrCwZy1d+WGe4XGGYdt",
      "include_colab_link": true
    },
    "kernelspec": {
      "name": "python3",
      "display_name": "Python 3"
    },
    "language_info": {
      "name": "python"
    }
  },
  "cells": [
    {
      "cell_type": "markdown",
      "metadata": {
        "id": "view-in-github",
        "colab_type": "text"
      },
      "source": [
        "<a href=\"https://colab.research.google.com/github/JoshuaMadriaga/CPE009A-OOP/blob/main/demo5.ipynb\" target=\"_parent\"><img src=\"https://colab.research.google.com/assets/colab-badge.svg\" alt=\"Open In Colab\"/></a>"
      ]
    },
    {
      "cell_type": "code",
      "execution_count": 2,
      "metadata": {
        "colab": {
          "base_uri": "https://localhost:8080/"
        },
        "id": "xpmgskrriER8",
        "outputId": "f65a8a2a-8efb-4565-bd3b-41a1feed1051"
      },
      "outputs": [
        {
          "output_type": "stream",
          "name": "stdout",
          "text": [
            "<__main__.Car object at 0x7e4955f2e890>\n"
          ]
        }
      ],
      "source": [
        "class Car:\n",
        "  pass\n",
        "\n",
        "obj1=Car()\n",
        "print(obj1)"
      ]
    },
    {
      "cell_type": "code",
      "source": [
        "class Car:\n",
        "  def __init__(self, name, color, mileage):\n",
        "    self.name = name\n",
        "    self.color = color\n",
        "    self.mileage = mileage\n",
        "obj1= Car(\"BMW\",\"Red\",1000)\n",
        "obj2= Car(\"Toyota\", \"Blue\",1200)\n",
        "print(obj1.name)\n",
        "print(obj1.color)\n",
        "print(obj1.mileage)\n",
        "\n",
        "print(obj2.mileage)"
      ],
      "metadata": {
        "colab": {
          "base_uri": "https://localhost:8080/"
        },
        "id": "nMso7XTMjObq",
        "outputId": "6e9888e2-f495-401a-e893-4139bb8e23e5"
      },
      "execution_count": 17,
      "outputs": [
        {
          "output_type": "stream",
          "name": "stdout",
          "text": [
            "BMW\n",
            "Red\n",
            "1000\n",
            "1200\n"
          ]
        }
      ]
    },
    {
      "cell_type": "markdown",
      "source": [
        "Excersice Application 1 = Write a python program that prints your student information with the following attributes Name,Age,Course, and Sectio use the class name student"
      ],
      "metadata": {
        "id": "CuVm9iXymzjx"
      }
    },
    {
      "cell_type": "code",
      "source": [
        "class Student:\n",
        "  def __init__(self,Name, Age, Course, Section):\n",
        "    self.Name = Name\n",
        "    self.Age = Age\n",
        "    self.Course = Course\n",
        "    self.Section = Section\n",
        "obj1= Student(\"Joshua R. Madriaga\", 19, \"Computer Engineering\", \"CPE12S6-CPE009A\")\n",
        "print(\"the Student Name is\", obj1.Name)\n",
        "print(\"the Student Age is\", obj1.Age)\n",
        "print(\"the Student Course is\", obj1.Course)\n",
        "print(\"the Student Section is\", obj1.Section)"
      ],
      "metadata": {
        "colab": {
          "base_uri": "https://localhost:8080/"
        },
        "id": "Rpxc3iRQnaGI",
        "outputId": "05c52ce8-5138-4f36-954a-eca81f0cace8"
      },
      "execution_count": 28,
      "outputs": [
        {
          "output_type": "stream",
          "name": "stdout",
          "text": [
            "the Student Name is Joshua R. Madriaga\n",
            "the Student Age is 19\n",
            "the Student Course is Computer Engineering\n",
            "the Student Section is CPE12S6-CPE009A\n"
          ]
        }
      ]
    }
  ]
}