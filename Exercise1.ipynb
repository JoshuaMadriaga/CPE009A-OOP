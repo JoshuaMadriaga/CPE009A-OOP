{
  "nbformat": 4,
  "nbformat_minor": 0,
  "metadata": {
    "colab": {
      "provenance": [],
      "authorship_tag": "ABX9TyMyN3JR1xoN86mB9v3LPhiu",
      "include_colab_link": true
    },
    "kernelspec": {
      "name": "python3",
      "display_name": "Python 3"
    },
    "language_info": {
      "name": "python"
    }
  },
  "cells": [
    {
      "cell_type": "markdown",
      "metadata": {
        "id": "view-in-github",
        "colab_type": "text"
      },
      "source": [
        "<a href=\"https://colab.research.google.com/github/JoshuaMadriaga/CPE009A-OOP/blob/main/Exercise1.ipynb\" target=\"_parent\"><img src=\"https://colab.research.google.com/assets/colab-badge.svg\" alt=\"Open In Colab\"/></a>"
      ]
    },
    {
      "cell_type": "markdown",
      "source": [
        "Algorithm to get the perimeter and area of a rectangle\n",
        "1. prompt the user for the length and width of the rectangle.\n",
        "2. calculate the perimeter of the rectangle using the formula: Perimeter = 2 *( Length + width)\n",
        "3. calculate the area of the rectangle using the formula area=length*width\n",
        "4. print the calculated perimeter aned area of the rectangle"
      ],
      "metadata": {
        "id": "xnuMsuMCUxfy"
      }
    },
    {
      "cell_type": "code",
      "source": [
        "print(\"the Perimeter of a Rectangle\")\n",
        "length = int(input(\"Enter the length of the rectangle \"))\n",
        "Width = int(input(\"Enter the Width of the rectangle \"))\n",
        "\n",
        "perimeter= 2*(length+Width)\n",
        "\n",
        "print(\"Perimeter of the rectangle is\", perimeter)\n",
        "\n",
        "print(\"the Area of a Rectangle\")\n",
        "\n",
        "length = int(input(\"Enter the length of the rectangle \"))\n",
        "Width = int(input(\"Enter the Width of the rectangle \"))\n",
        "\n",
        "Area= length * Width\n",
        "\n",
        "print(\"Area of the rectangle is\",Area)"
      ],
      "metadata": {
        "colab": {
          "base_uri": "https://localhost:8080/"
        },
        "id": "WZlPsduAWMeT",
        "outputId": "22695b60-2587-4349-d1ab-f802e8164325"
      },
      "execution_count": 13,
      "outputs": [
        {
          "output_type": "stream",
          "name": "stdout",
          "text": [
            "the Perimeter of a Rectangle\n",
            "Enter the length of the rectangle 4\n",
            "Enter the Width of the rectangle 6\n",
            "Perimeter of the rectangle is 20\n",
            "the Area of a Rectangle\n",
            "Enter the length of the rectangle 5\n",
            "Enter the Width of the rectangle 6\n",
            "Area of the rectangle is 30\n"
          ]
        }
      ]
    }
  ]
}