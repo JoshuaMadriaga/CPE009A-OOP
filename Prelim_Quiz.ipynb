{
  "nbformat": 4,
  "nbformat_minor": 0,
  "metadata": {
    "colab": {
      "provenance": [],
      "authorship_tag": "ABX9TyMQuBP9eKse/J+Hi20gXP6/",
      "include_colab_link": true
    },
    "kernelspec": {
      "name": "python3",
      "display_name": "Python 3"
    },
    "language_info": {
      "name": "python"
    }
  },
  "cells": [
    {
      "cell_type": "markdown",
      "metadata": {
        "id": "view-in-github",
        "colab_type": "text"
      },
      "source": [
        "<a href=\"https://colab.research.google.com/github/JoshuaMadriaga/CPE009A-OOP/blob/main/Prelim_Quiz.ipynb\" target=\"_parent\"><img src=\"https://colab.research.google.com/assets/colab-badge.svg\" alt=\"Open In Colab\"/></a>"
      ]
    },
    {
      "cell_type": "markdown",
      "source": [
        "Prelim"
      ],
      "metadata": {
        "id": "5Ep4TBMJQcdb"
      }
    },
    {
      "cell_type": "code",
      "execution_count": 21,
      "metadata": {
        "colab": {
          "base_uri": "https://localhost:8080/"
        },
        "id": "XO-exp0ZPewB",
        "outputId": "dfceee2c-3fdb-432f-e75e-39eb78b403bd"
      },
      "outputs": [
        {
          "output_type": "stream",
          "name": "stdout",
          "text": [
            "sum 210\n",
            "Average: 10.5\n"
          ]
        }
      ],
      "source": [
        "N = 20\n",
        "Total_numbers = N\n",
        "Sum = 0\n",
        "Average = 0\n",
        "\n",
        "while N >=0:\n",
        "  Sum+=N\n",
        "  N-=1\n",
        "\n",
        "Average = Sum/Total_numbers\n",
        "\n",
        "print(\"sum\", Sum)\n",
        "print(\"Average:\", Average)"
      ]
    },
    {
      "cell_type": "code",
      "source": [],
      "metadata": {
        "id": "NRSIvnCvVdne"
      },
      "execution_count": null,
      "outputs": []
    }
  ]
}